{
  "nbformat": 4,
  "nbformat_minor": 0,
  "metadata": {
    "colab": {
      "name": "Gram Schmidt Process.ipynb",
      "provenance": [],
      "authorship_tag": "ABX9TyMzIrNwMnMhjZ5ZXoF5ZYfy",
      "include_colab_link": true
    },
    "kernelspec": {
      "name": "python3",
      "display_name": "Python 3"
    },
    "language_info": {
      "name": "python"
    }
  },
  "cells": [
    {
      "cell_type": "markdown",
      "metadata": {
        "id": "view-in-github",
        "colab_type": "text"
      },
      "source": [
        "<a href=\"https://colab.research.google.com/github/JuliaKurz/Linear_Algebra_Coding_Projects/blob/main/Gram_Schmidt_Process.ipynb\" target=\"_parent\"><img src=\"https://colab.research.google.com/assets/colab-badge.svg\" alt=\"Open In Colab\"/></a>"
      ]
    },
    {
      "cell_type": "code",
      "execution_count": 3,
      "metadata": {
        "id": "tdztgdXkS8MA"
      },
      "outputs": [],
      "source": [
        "import matplotlib.pyplot as plt\n",
        "from sympy import Poly\n",
        "import sympy as sym\n",
        "import numpy as np\n",
        "from numpy import c_\n",
        "\n",
        "#We'll specify that x and t are variables:\n",
        "x,t = sym.symbols('x,t')\n",
        "\n",
        "ll = 'loaded'"
      ]
    },
    {
      "cell_type": "code",
      "source": [
        "#Gram-Schmidt process using the first vector [3 6 0]\n",
        "r1 = np.array([3,6,0])\n",
        "print(\"Our 1st messy vector is\", r1)\n",
        "#Temporary vector T1\n",
        "T1 = r1\n",
        "print(\"our T1 vector is\", T1)\n",
        "#Find magnitude of T1\n",
        "n1 = np.sqrt(T1.dot(T1))\n",
        "print(\"the size of T1 is |T1| = \", n1)\n",
        "# renormalize and create u1\n",
        "u1 = (1/n1) * T1\n",
        "print(\"u1 =\", u1)\n"
      ],
      "metadata": {
        "colab": {
          "base_uri": "https://localhost:8080/"
        },
        "id": "MFwMfv7RVFWq",
        "outputId": "e3e0d094-e549-4b5f-d473-920ecc7545ee"
      },
      "execution_count": 13,
      "outputs": [
        {
          "output_type": "stream",
          "name": "stdout",
          "text": [
            "Our 1st messy vector is [3 6 0]\n",
            "our T1 vector is [3 6 0]\n",
            "the size of T1 is |T1| =  6.708203932499369\n",
            "u1 = [0.4472136  0.89442719 0.        ]\n"
          ]
        }
      ]
    },
    {
      "cell_type": "code",
      "source": [
        "#Gram-Schmidt process using the second vector [6 2 0]\n",
        "r2 = np.array([6,2,0])\n",
        "print(\"Our 2nd messy vector is\", r2)\n",
        "#Temporary vector T2\n",
        "T2 = r2 - (r2.dot(u1))*u1\n",
        "print(\"our T2 vector is\", T2)\n",
        "#Find magnitude of T2\n",
        "n2 = np.sqrt(T2.dot(T2))\n",
        "print(\"the size of T2 is |T2| = \",n2)\n",
        "# renormalize and create u2\n",
        "u2 = (1/n2) * T2\n",
        "print(\"u2 =\", u2)\n"
      ],
      "metadata": {
        "colab": {
          "base_uri": "https://localhost:8080/"
        },
        "id": "Ld3SLgrDYPM3",
        "outputId": "d576842b-e77c-47c3-999d-0de011e86128"
      },
      "execution_count": 15,
      "outputs": [
        {
          "output_type": "stream",
          "name": "stdout",
          "text": [
            "Our 2nd messy vector is [6 2 0]\n",
            "our T2 vector is [ 4. -2.  0.]\n",
            "the size of T2 is |T2| =  4.47213595499958\n",
            "u2 = [ 0.89442719 -0.4472136   0.        ]\n"
          ]
        }
      ]
    },
    {
      "cell_type": "code",
      "source": [
        ""
      ],
      "metadata": {
        "id": "BWK0pIDzaOr_"
      },
      "execution_count": null,
      "outputs": []
    }
  ]
}