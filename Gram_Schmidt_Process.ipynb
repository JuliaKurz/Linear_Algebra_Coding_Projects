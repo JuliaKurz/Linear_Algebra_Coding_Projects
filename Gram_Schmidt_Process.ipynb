{
  "nbformat": 4,
  "nbformat_minor": 0,
  "metadata": {
    "colab": {
      "name": "Gram Schmidt Process.ipynb",
      "provenance": [],
      "authorship_tag": "ABX9TyNzGEChiwfheJdqZZ8Lwh7M",
      "include_colab_link": true
    },
    "kernelspec": {
      "name": "python3",
      "display_name": "Python 3"
    },
    "language_info": {
      "name": "python"
    }
  },
  "cells": [
    {
      "cell_type": "markdown",
      "metadata": {
        "id": "view-in-github",
        "colab_type": "text"
      },
      "source": [
        "<a href=\"https://colab.research.google.com/github/JuliaKurz/Linear_Algebra_Coding_Projects/blob/main/Gram_Schmidt_Process.ipynb\" target=\"_parent\"><img src=\"https://colab.research.google.com/assets/colab-badge.svg\" alt=\"Open In Colab\"/></a>"
      ]
    },
    {
      "cell_type": "code",
      "execution_count": 5,
      "metadata": {
        "id": "tdztgdXkS8MA"
      },
      "outputs": [],
      "source": [
        "import matplotlib.pyplot as plt\n",
        "from sympy import Poly\n",
        "import sympy as sym\n",
        "import numpy as np\n",
        "from numpy import c_\n",
        "\n",
        "#We'll specify that x and t are variables:\n",
        "x,t = sym.symbols('x,t')\n",
        "\n",
        "ll = 'loaded'"
      ]
    },
    {
      "cell_type": "code",
      "source": [
        "#Gram-Schmidt process using the first vector [3 6 0]\n",
        "r1 = np.array([3,6,0])\n",
        "print(\"Our 1st messy vector is\", r1)\n",
        "#Temporary vector T1\n",
        "T1 = r1\n",
        "print(\"our T1 vector is\", T1)\n",
        "#Find magnitude of T1\n",
        "n1 = np.sqrt(T1.dot(T1))\n",
        "print(\"the size of T1 is |T1| = \", n1)\n",
        "# renormalize and create u1\n",
        "u1 = (1/n1) * T1\n",
        "print(\"u1 =\", u1)\n"
      ],
      "metadata": {
        "colab": {
          "base_uri": "https://localhost:8080/"
        },
        "id": "MFwMfv7RVFWq",
        "outputId": "70c719eb-2413-4001-901e-887095371f18"
      },
      "execution_count": 6,
      "outputs": [
        {
          "output_type": "stream",
          "name": "stdout",
          "text": [
            "Our 1st messy vector is [3 6 0]\n",
            "our T1 vector is [3 6 0]\n",
            "the size of T1 is |T1| =  6.708203932499369\n",
            "u1 = [0.4472136  0.89442719 0.        ]\n"
          ]
        }
      ]
    },
    {
      "cell_type": "code",
      "source": [
        "#Gram-Schmidt process using the second vector [6 2 0]\n",
        "r2 = np.array([6,2,0])\n",
        "print(\"Our 2nd messy vector is\", r2)\n",
        "#Temporary vector T2\n",
        "T2 = r2 - (r2.dot(u1))*u1\n",
        "print(\"our T2 vector is\", T2)\n",
        "#Find magnitude of T2\n",
        "n2 = np.sqrt(T2.dot(T2))\n",
        "print(\"the size of T2 is |T2| = \",n2)\n",
        "# renormalize and create u2\n",
        "u2 = (1/n2) * T2\n",
        "print(\"u2 =\", u2)\n"
      ],
      "metadata": {
        "colab": {
          "base_uri": "https://localhost:8080/"
        },
        "id": "Ld3SLgrDYPM3",
        "outputId": "02c70bfa-5d29-453c-b66f-293435c892d5"
      },
      "execution_count": 8,
      "outputs": [
        {
          "output_type": "stream",
          "name": "stdout",
          "text": [
            "Our 2nd messy vector is [6 2 0]\n",
            "our T2 vector is [ 4. -2.  0.]\n",
            "the size of T2 is |T2| =  4.47213595499958\n",
            "u2 = [ 0.89442719 -0.4472136   0.        ]\n"
          ]
        }
      ]
    },
    {
      "cell_type": "code",
      "source": [
        "#Gram-Schmidt process using the third vector [-4 2 0]\n",
        "r3 = np.array([-4,2,0])\n",
        "print(\"Our 3rd messy vector is\", r3)\n",
        "#Temporary vector T3\n",
        "T3 = r3 - (r3.dot(u1))*u1 - (r3.dot(u2))*u2\n",
        "print(\"our T3 vector is\", T3)\n",
        "#Find magnitude of T2\n",
        "n3 = np.sqrt(T3.dot(T3))\n",
        "print(\"the size of T3 is |T3| = \",n3)\n",
        "# renormalize and create u3\n",
        "u3 = (1/n3) * T3\n",
        "print(\"u3 =\", u3)"
      ],
      "metadata": {
        "colab": {
          "base_uri": "https://localhost:8080/"
        },
        "id": "BWK0pIDzaOr_",
        "outputId": "ccbe9e5e-2c06-460f-86f9-615da562db38"
      },
      "execution_count": 9,
      "outputs": [
        {
          "output_type": "stream",
          "name": "stdout",
          "text": [
            "Our 3rd messy vector is [-4  2  0]\n",
            "our T3 vector is [-4.4408921e-16 -8.8817842e-16  0.0000000e+00]\n",
            "the size of T3 is |T3| =  9.930136612989092e-16\n",
            "u3 = [-0.4472136  -0.89442719  0.        ]\n"
          ]
        }
      ]
    },
    {
      "cell_type": "code",
      "source": [
        "#Gram-Schmidt process using the fourth vector [3,-4,3]\n",
        "r4 = np.array([3,-4,3])\n",
        "print(\"Our 4th messy vector is\", r4)\n",
        "#Temporary vector T3\n",
        "T4 = r4 - (r4.dot(u1))*u1 - (r4.dot(u2))*u2 - (r4.dot(u3))*u3\n",
        "print(\"our T4 vector is\", T4)\n",
        "#Find magnitude of T4\n",
        "n4 = np.sqrt(T4.dot(T4))\n",
        "print(\"the size of T4 is |T4| = \",n4)\n",
        "# renormalize and create u4\n",
        "u4 = (1/n4) * T4\n",
        "print(\"u4 =\", u4)"
      ],
      "metadata": {
        "colab": {
          "base_uri": "https://localhost:8080/"
        },
        "id": "EiFYydSSUAAT",
        "outputId": "7d548081-dc37-4361-924c-86b0c84455ea"
      },
      "execution_count": 10,
      "outputs": [
        {
          "output_type": "stream",
          "name": "stdout",
          "text": [
            "Our 4th messy vector is [ 3 -4  3]\n",
            "our T4 vector is [1. 2. 3.]\n",
            "the size of T4 is |T4| =  3.741657386773942\n",
            "u4 = [0.26726124 0.53452248 0.80178373]\n"
          ]
        }
      ]
    }
  ]
}